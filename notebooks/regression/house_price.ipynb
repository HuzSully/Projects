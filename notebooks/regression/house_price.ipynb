{
 "cells": [
  {
   "cell_type": "code",
   "execution_count": 1,
   "metadata": {},
   "outputs": [],
   "source": [
    "import pandas as pd\n",
    "pd.set_option('display.max_columns', None)\n",
    "\n",
    "import sys\n",
    "sys.path.append(r'C:\\Users\\huzef\\OneDrive\\Documents\\Projects\\Projects\\data_science_code')\n",
    "\n",
    "from data_processor import DataProcessor\n",
    "from convert_categorical_variables import CategoricalEncoder\n",
    "from evaluate_classification import ClassificationEvaluator\n",
    "from sklearn.preprocessing import StandardScaler"
   ]
  },
  {
   "cell_type": "code",
   "execution_count": 2,
   "metadata": {},
   "outputs": [
    {
     "name": "stdout",
     "output_type": "stream",
     "text": [
      "An error occurred while reading the Text file: Error tokenizing data. C error: Expected 1 fields in line 62, saw 4\n",
      "\n"
     ]
    }
   ],
   "source": [
    "data_processor = DataProcessor()\n",
    "train_df = data_processor.read_csv(r'C:\\Users\\huzef\\OneDrive\\Documents\\Projects\\Projects\\data\\house_price\\train.csv')\n",
    "test_df = data_processor.read_csv(r'C:\\Users\\huzef\\OneDrive\\Documents\\Projects\\Projects\\data\\house_price\\test.csv')\n",
    "sample_submission = data_processor.read_csv(r'C:\\Users\\huzef\\OneDrive\\Documents\\Projects\\Projects\\data\\house_price\\sample_submission.csv')"
   ]
  },
  {
   "cell_type": "code",
   "execution_count": null,
   "metadata": {},
   "outputs": [],
   "source": []
  }
 ],
 "metadata": {
  "kernelspec": {
   "display_name": "general2",
   "language": "python",
   "name": "python3"
  },
  "language_info": {
   "codemirror_mode": {
    "name": "ipython",
    "version": 3
   },
   "file_extension": ".py",
   "mimetype": "text/x-python",
   "name": "python",
   "nbconvert_exporter": "python",
   "pygments_lexer": "ipython3",
   "version": "3.10.14"
  }
 },
 "nbformat": 4,
 "nbformat_minor": 2
}

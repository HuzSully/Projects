{
 "cells": [
  {
   "cell_type": "code",
   "execution_count": 1,
   "metadata": {},
   "outputs": [],
   "source": [
    "import pandas as pd\n",
    "pd.set_option('display.max_columns', None)\n",
    "\n",
    "import sys\n",
    "sys.path.append(r'C:\\Users\\huzef\\OneDrive\\Documents\\Projects\\Projects\\data_science_code')\n",
    "\n",
    "from data_processor import DataProcessor\n",
    "from classification_models import LogisticRegressionModel, RandomForestModel\n",
    "from convert_categorical_variables import CategoricalEncoder\n",
    "from evaluate_classification import ClassificationEvaluator"
   ]
  },
  {
   "cell_type": "code",
   "execution_count": 2,
   "metadata": {},
   "outputs": [],
   "source": [
    "data_processor = DataProcessor()\n",
    "train_df = data_processor.read_csv(r'C:\\Users\\huzef\\OneDrive\\Documents\\Projects\\Projects\\data\\titanic\\train.csv')\n",
    "test_df = data_processor.read_csv(r'C:\\Users\\huzef\\OneDrive\\Documents\\Projects\\Projects\\data\\titanic\\test.csv')\n",
    "gender_submission = data_processor.read_csv(r'C:\\Users\\huzef\\OneDrive\\Documents\\Projects\\Projects\\data\\titanic\\gender_submission.csv')"
   ]
  },
  {
   "cell_type": "code",
   "execution_count": 3,
   "metadata": {},
   "outputs": [
    {
     "name": "stdout",
     "output_type": "stream",
     "text": [
      "Data split into training and testing sets successfully.\n",
      "Features and target variable split successfully.\n",
      "Features and target variable split successfully.\n"
     ]
    }
   ],
   "source": [
    "train_data, test_data = data_processor.train_test_split(train_df, test_size=0.2, random_state=42)\n",
    "X_train, y_train = data_processor.split_features_target(train_data, 'Survived')\n",
    "X_test, y_test = data_processor.split_features_target(test_data, 'Survived')"
   ]
  },
  {
   "cell_type": "markdown",
   "metadata": {},
   "source": [
    "# EDA/ Feature Engineering"
   ]
  },
  {
   "cell_type": "code",
   "execution_count": 4,
   "metadata": {},
   "outputs": [],
   "source": [
    "def eda(df_1):\n",
    "    df = df_1.copy()\n",
    "    df.drop('PassengerId', axis=1, inplace=True)\n",
    "\n",
    "    df['Surname'] = df['Name'].str.split(',').str[0]\n",
    "    df['FirstName'] = df['Name'].str.split(',').str[1]\n",
    "    df['Title'] = df['FirstName'].str.split('.').str[0]\n",
    "    df.drop(['Name', 'FirstName', 'Surname'], axis=1, inplace=True)\n",
    "    rare_titles = ['Rev', 'Dr', 'Major', 'Col', 'Mlle', 'Capt', 'Mme', 'the Countess', 'Lady', 'Sir', 'Jonkheer', 'Don']\n",
    "    df['Title'] = df['Title'].apply(lambda x: 'Miss' if x.strip() == 'Ms' else 'Rare' if x.strip() in rare_titles else x.strip())\n",
    "\n",
    "    df['Sex'] = df['Sex'].map({'male': 1, 'female': 0})\n",
    "\n",
    "    df['Ticket_string'] = df['Ticket'].str.contains('[a-zA-Z]').astype(int)\n",
    "\n",
    "    df['Cabin'] = df['Cabin'].fillna('U')\n",
    "\n",
    "    most_common = df['Embarked'].mode()[0]\n",
    "    df['Embarked'] = df['Embarked'].fillna(most_common)\n",
    "\n",
    "    df['Age'] = df['Age'].fillna(df['Age'].median())\n",
    "\n",
    "    df['Cabin_Letter'] = df['Cabin'].str.extract(r'([A-Za-z])')\n",
    "    df['Cabin_Number'] = df['Cabin'].str.extract(r'(\\d+)')\n",
    "    df['Cabin_Number'] = df['Cabin_Number'].fillna(0)\n",
    "    \n",
    "    df = df[['Pclass','Sex','Age','SibSp','Parch','Fare','Embarked','Title','Ticket_string','Cabin_Letter','Cabin_Number']]\n",
    "\n",
    "    encoder = CategoricalEncoder(df)\n",
    "    df = encoder.one_hot_encoding(['Embarked', 'Title', 'Cabin_Letter'])\n",
    "    df = df.drop(['Cabin_Letter_U'], axis=1)\n",
    "\n",
    "    return df\n",
    "\n",
    "X_train_filt = eda(X_train)\n",
    "X_test_filt = eda(X_test)\n",
    "\n",
    "X_train_filt = X_train_filt[['Pclass', 'Sex', 'Age', 'SibSp', 'Parch', 'Fare', 'Ticket_string',\n",
    "       'Cabin_Number', 'Embarked_C', 'Embarked_Q', 'Embarked_S',\n",
    "       'Title_Master', 'Title_Miss', 'Title_Mr', 'Title_Mrs', 'Title_Rare',\n",
    "       'Cabin_Letter_A', 'Cabin_Letter_B', 'Cabin_Letter_C', 'Cabin_Letter_D',\n",
    "       'Cabin_Letter_E', 'Cabin_Letter_F', 'Cabin_Letter_G']]"
   ]
  },
  {
   "cell_type": "code",
   "execution_count": 5,
   "metadata": {},
   "outputs": [],
   "source": [
    "log_reg_model = LogisticRegressionModel()\n",
    "log_reg_model.set_params(random_state=42, max_iter=1000) \n",
    "log_reg_model.train(X_train_filt, y_train)\n",
    "log_reg_predict = log_reg_model.predict(X_test_filt)"
   ]
  },
  {
   "cell_type": "code",
   "execution_count": 8,
   "metadata": {},
   "outputs": [
    {
     "data": {
      "text/html": [
       "<div>\n",
       "<style scoped>\n",
       "    .dataframe tbody tr th:only-of-type {\n",
       "        vertical-align: middle;\n",
       "    }\n",
       "\n",
       "    .dataframe tbody tr th {\n",
       "        vertical-align: top;\n",
       "    }\n",
       "\n",
       "    .dataframe thead th {\n",
       "        text-align: right;\n",
       "    }\n",
       "</style>\n",
       "<table border=\"1\" class=\"dataframe\">\n",
       "  <thead>\n",
       "    <tr style=\"text-align: right;\">\n",
       "      <th></th>\n",
       "      <th>Feature</th>\n",
       "      <th>Importance</th>\n",
       "    </tr>\n",
       "  </thead>\n",
       "  <tbody>\n",
       "    <tr>\n",
       "      <th>0</th>\n",
       "      <td>Fare</td>\n",
       "      <td>0.156086</td>\n",
       "    </tr>\n",
       "    <tr>\n",
       "      <th>1</th>\n",
       "      <td>Title_Mr</td>\n",
       "      <td>0.151405</td>\n",
       "    </tr>\n",
       "    <tr>\n",
       "      <th>2</th>\n",
       "      <td>Sex</td>\n",
       "      <td>0.142978</td>\n",
       "    </tr>\n",
       "    <tr>\n",
       "      <th>3</th>\n",
       "      <td>Age</td>\n",
       "      <td>0.121433</td>\n",
       "    </tr>\n",
       "    <tr>\n",
       "      <th>4</th>\n",
       "      <td>Pclass</td>\n",
       "      <td>0.065480</td>\n",
       "    </tr>\n",
       "  </tbody>\n",
       "</table>\n",
       "</div>"
      ],
      "text/plain": [
       "    Feature  Importance\n",
       "0      Fare    0.156086\n",
       "1  Title_Mr    0.151405\n",
       "2       Sex    0.142978\n",
       "3       Age    0.121433\n",
       "4    Pclass    0.065480"
      ]
     },
     "execution_count": 8,
     "metadata": {},
     "output_type": "execute_result"
    }
   ],
   "source": [
    "rf_model = RandomForestModel(random_state=42)\n",
    "rf_model.train(X_train_filt, y_train)\n",
    "best_params = rf_model.tune_hyperparameters(X_train_filt, y_train, param_grid={'n_estimators': [100, 200], 'max_depth': [10, 20]})\n",
    "rf_model_predict = rf_model.predict(X_test_filt)\n",
    "(rf_model.get_feature_importances()).head()"
   ]
  },
  {
   "cell_type": "code",
   "execution_count": 7,
   "metadata": {},
   "outputs": [
    {
     "data": {
      "text/html": [
       "<div>\n",
       "<style scoped>\n",
       "    .dataframe tbody tr th:only-of-type {\n",
       "        vertical-align: middle;\n",
       "    }\n",
       "\n",
       "    .dataframe tbody tr th {\n",
       "        vertical-align: top;\n",
       "    }\n",
       "\n",
       "    .dataframe thead th {\n",
       "        text-align: right;\n",
       "    }\n",
       "</style>\n",
       "<table border=\"1\" class=\"dataframe\">\n",
       "  <thead>\n",
       "    <tr style=\"text-align: right;\">\n",
       "      <th></th>\n",
       "      <th>Model</th>\n",
       "      <th>Accuracy</th>\n",
       "      <th>Precision</th>\n",
       "      <th>Recall</th>\n",
       "      <th>F1 Score</th>\n",
       "      <th>Confusion Matrix</th>\n",
       "      <th>ROC AUC</th>\n",
       "    </tr>\n",
       "  </thead>\n",
       "  <tbody>\n",
       "    <tr>\n",
       "      <th>0</th>\n",
       "      <td>Logistic Regression</td>\n",
       "      <td>0.821229</td>\n",
       "      <td>0.776316</td>\n",
       "      <td>0.797297</td>\n",
       "      <td>0.786667</td>\n",
       "      <td>88\\t17\\n15\\t59</td>\n",
       "      <td>None</td>\n",
       "    </tr>\n",
       "    <tr>\n",
       "      <th>1</th>\n",
       "      <td>RF Model</td>\n",
       "      <td>0.821229</td>\n",
       "      <td>0.808824</td>\n",
       "      <td>0.743243</td>\n",
       "      <td>0.774648</td>\n",
       "      <td>92\\t13\\n19\\t55</td>\n",
       "      <td>None</td>\n",
       "    </tr>\n",
       "  </tbody>\n",
       "</table>\n",
       "</div>"
      ],
      "text/plain": [
       "                 Model  Accuracy  Precision    Recall  F1 Score  \\\n",
       "0  Logistic Regression  0.821229   0.776316  0.797297  0.786667   \n",
       "1             RF Model  0.821229   0.808824  0.743243  0.774648   \n",
       "\n",
       "  Confusion Matrix ROC AUC  \n",
       "0   88\\t17\\n15\\t59    None  \n",
       "1   92\\t13\\n19\\t55    None  "
      ]
     },
     "execution_count": 7,
     "metadata": {},
     "output_type": "execute_result"
    }
   ],
   "source": [
    "evaluator = ClassificationEvaluator(y_true=y_test)\n",
    "evaluator.add_model('Logistic Regression', log_reg_predict)\n",
    "evaluator.add_model('RF Model', rf_model_predict)\n",
    "evaluator.evaluate_all_models()"
   ]
  }
 ],
 "metadata": {
  "kernelspec": {
   "display_name": "general2",
   "language": "python",
   "name": "python3"
  },
  "language_info": {
   "codemirror_mode": {
    "name": "ipython",
    "version": 3
   },
   "file_extension": ".py",
   "mimetype": "text/x-python",
   "name": "python",
   "nbconvert_exporter": "python",
   "pygments_lexer": "ipython3",
   "version": "3.10.14"
  }
 },
 "nbformat": 4,
 "nbformat_minor": 2
}

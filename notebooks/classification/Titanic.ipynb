{
 "cells": [
  {
   "cell_type": "code",
   "execution_count": 14,
   "metadata": {},
   "outputs": [
    {
     "ename": "ImportError",
     "evalue": "cannot import name 'RandomForestModel' from 'classification_models' (C:\\Users\\huzef\\OneDrive\\Documents\\Projects\\Projects\\data_science_code\\classification_models.py)",
     "output_type": "error",
     "traceback": [
      "\u001b[1;31m---------------------------------------------------------------------------\u001b[0m",
      "\u001b[1;31mImportError\u001b[0m                               Traceback (most recent call last)",
      "Cell \u001b[1;32mIn[14], line 8\u001b[0m\n\u001b[0;32m      5\u001b[0m sys\u001b[38;5;241m.\u001b[39mpath\u001b[38;5;241m.\u001b[39mappend(\u001b[38;5;124mr\u001b[39m\u001b[38;5;124m'\u001b[39m\u001b[38;5;124mC:\u001b[39m\u001b[38;5;124m\\\u001b[39m\u001b[38;5;124mUsers\u001b[39m\u001b[38;5;124m\\\u001b[39m\u001b[38;5;124mhuzef\u001b[39m\u001b[38;5;124m\\\u001b[39m\u001b[38;5;124mOneDrive\u001b[39m\u001b[38;5;124m\\\u001b[39m\u001b[38;5;124mDocuments\u001b[39m\u001b[38;5;124m\\\u001b[39m\u001b[38;5;124mProjects\u001b[39m\u001b[38;5;124m\\\u001b[39m\u001b[38;5;124mProjects\u001b[39m\u001b[38;5;124m\\\u001b[39m\u001b[38;5;124mdata_science_code\u001b[39m\u001b[38;5;124m'\u001b[39m)\n\u001b[0;32m      7\u001b[0m \u001b[38;5;28;01mfrom\u001b[39;00m \u001b[38;5;21;01mdata_processor\u001b[39;00m \u001b[38;5;28;01mimport\u001b[39;00m DataProcessor\n\u001b[1;32m----> 8\u001b[0m \u001b[38;5;28;01mfrom\u001b[39;00m \u001b[38;5;21;01mclassification_models\u001b[39;00m \u001b[38;5;28;01mimport\u001b[39;00m LogisticRegressionModel, RandomForestModel\n\u001b[0;32m      9\u001b[0m \u001b[38;5;28;01mfrom\u001b[39;00m \u001b[38;5;21;01mconvert_categorical_variables\u001b[39;00m \u001b[38;5;28;01mimport\u001b[39;00m CategoricalEncoder\n\u001b[0;32m     10\u001b[0m \u001b[38;5;28;01mfrom\u001b[39;00m \u001b[38;5;21;01mevaluate_classification\u001b[39;00m \u001b[38;5;28;01mimport\u001b[39;00m ClassificationEvaluator\n",
      "\u001b[1;31mImportError\u001b[0m: cannot import name 'RandomForestModel' from 'classification_models' (C:\\Users\\huzef\\OneDrive\\Documents\\Projects\\Projects\\data_science_code\\classification_models.py)"
     ]
    }
   ],
   "source": [
    "import pandas as pd\n",
    "pd.set_option('display.max_columns', None)\n",
    "\n",
    "import sys\n",
    "sys.path.append(r'C:\\Users\\huzef\\OneDrive\\Documents\\Projects\\Projects\\data_science_code')\n",
    "\n",
    "from data_processor import DataProcessor\n",
    "from classification_models import LogisticRegressionModel, RandomForestModel\n",
    "from convert_categorical_variables import CategoricalEncoder\n",
    "from evaluate_classification import ClassificationEvaluator"
   ]
  },
  {
   "cell_type": "code",
   "execution_count": 2,
   "metadata": {},
   "outputs": [],
   "source": [
    "data_processor = DataProcessor()\n",
    "train_df = data_processor.read_csv(r'C:\\Users\\huzef\\OneDrive\\Documents\\Projects\\Projects\\data\\titanic\\train.csv')\n",
    "test_df = data_processor.read_csv(r'C:\\Users\\huzef\\OneDrive\\Documents\\Projects\\Projects\\data\\titanic\\test.csv')\n",
    "gender_submission = data_processor.read_csv(r'C:\\Users\\huzef\\OneDrive\\Documents\\Projects\\Projects\\data\\titanic\\gender_submission.csv')"
   ]
  },
  {
   "cell_type": "code",
   "execution_count": 3,
   "metadata": {},
   "outputs": [
    {
     "name": "stdout",
     "output_type": "stream",
     "text": [
      "Data split into training and testing sets successfully.\n",
      "Features and target variable split successfully.\n",
      "Features and target variable split successfully.\n"
     ]
    }
   ],
   "source": [
    "train_data, test_data = data_processor.train_test_split(train_df, test_size=0.2, random_state=42)\n",
    "X_train, y_train = data_processor.split_features_target(train_data, 'Survived')\n",
    "X_test, y_test = data_processor.split_features_target(test_data, 'Survived')"
   ]
  },
  {
   "cell_type": "markdown",
   "metadata": {},
   "source": [
    "# EDA/ Feature Engineering"
   ]
  },
  {
   "cell_type": "code",
   "execution_count": 4,
   "metadata": {},
   "outputs": [],
   "source": [
    "def eda(df_1):\n",
    "    df = df_1.copy()\n",
    "    df.drop('PassengerId', axis=1, inplace=True)\n",
    "\n",
    "    df['Surname'] = df['Name'].str.split(',').str[0]\n",
    "    df['FirstName'] = df['Name'].str.split(',').str[1]\n",
    "    df['Title'] = df['FirstName'].str.split('.').str[0]\n",
    "    df.drop(['Name', 'FirstName', 'Surname'], axis=1, inplace=True)\n",
    "    rare_titles = ['Rev', 'Dr', 'Major', 'Col', 'Mlle', 'Capt', 'Mme', 'the Countess', 'Lady', 'Sir', 'Jonkheer', 'Don']\n",
    "    df['Title'] = df['Title'].apply(lambda x: 'Miss' if x.strip() == 'Ms' else 'Rare' if x.strip() in rare_titles else x.strip())\n",
    "\n",
    "    df['Sex'] = df['Sex'].map({'male': 1, 'female': 0})\n",
    "\n",
    "    df['Ticket_string'] = df['Ticket'].str.contains('[a-zA-Z]').astype(int)\n",
    "\n",
    "    df['Cabin'] = df['Cabin'].fillna('U')\n",
    "\n",
    "    most_common = df['Embarked'].mode()[0]\n",
    "    df['Embarked'] = df['Embarked'].fillna(most_common)\n",
    "\n",
    "    df['Age'] = df['Age'].fillna(df['Age'].median())\n",
    "\n",
    "    df['Cabin_Letter'] = df['Cabin'].str.extract(r'([A-Za-z])')\n",
    "    df['Cabin_Number'] = df['Cabin'].str.extract(r'(\\d+)')\n",
    "    df['Cabin_Number'] = df['Cabin_Number'].fillna(0)\n",
    "    \n",
    "    df = df[['Pclass','Sex','Age','SibSp','Parch','Fare','Embarked','Title','Ticket_string','Cabin_Letter','Cabin_Number']]\n",
    "\n",
    "    encoder = CategoricalEncoder(df)\n",
    "    df = encoder.one_hot_encoding(['Embarked', 'Title', 'Cabin_Letter'])\n",
    "    df = df.drop(['Cabin_Letter_U'], axis=1)\n",
    "\n",
    "    return df\n",
    "\n",
    "X_train_filt = eda(X_train)\n",
    "X_test_filt = eda(X_test)\n",
    "\n",
    "X_train_filt = X_train_filt[['Pclass', 'Sex', 'Age', 'SibSp', 'Parch', 'Fare', 'Ticket_string',\n",
    "       'Cabin_Number', 'Embarked_C', 'Embarked_Q', 'Embarked_S',\n",
    "       'Title_Master', 'Title_Miss', 'Title_Mr', 'Title_Mrs', 'Title_Rare',\n",
    "       'Cabin_Letter_A', 'Cabin_Letter_B', 'Cabin_Letter_C', 'Cabin_Letter_D',\n",
    "       'Cabin_Letter_E', 'Cabin_Letter_F', 'Cabin_Letter_G']]"
   ]
  },
  {
   "cell_type": "code",
   "execution_count": 11,
   "metadata": {},
   "outputs": [],
   "source": [
    "log_reg_model = LogisticRegressionModel()\n",
    "log_reg_model.set_params(random_state=42, max_iter=1000) \n",
    "log_reg_model.train(X_train_filt, y_train)\n",
    "log_reg_predict = log_reg_model.predict(X_test_filt)"
   ]
  },
  {
   "cell_type": "code",
   "execution_count": 13,
   "metadata": {},
   "outputs": [
    {
     "ename": "NameError",
     "evalue": "name 'RandomForestModel' is not defined",
     "output_type": "error",
     "traceback": [
      "\u001b[1;31m---------------------------------------------------------------------------\u001b[0m",
      "\u001b[1;31mNameError\u001b[0m                                 Traceback (most recent call last)",
      "Cell \u001b[1;32mIn[13], line 1\u001b[0m\n\u001b[1;32m----> 1\u001b[0m rf_model \u001b[38;5;241m=\u001b[39m \u001b[43mRandomForestModel\u001b[49m(random_state\u001b[38;5;241m=\u001b[39m\u001b[38;5;241m42\u001b[39m)\n\u001b[0;32m      2\u001b[0m rf_model\u001b[38;5;241m.\u001b[39mtrain(X_train_filt, y_train)\n\u001b[0;32m      3\u001b[0m predictions1 \u001b[38;5;241m=\u001b[39m rf_model\u001b[38;5;241m.\u001b[39mpredict(X_test_filt)\n",
      "\u001b[1;31mNameError\u001b[0m: name 'RandomForestModel' is not defined"
     ]
    }
   ],
   "source": [
    "rf_model = RandomForestModel(random_state=42)\n",
    "rf_model.train(X_train_filt, y_train)\n",
    "predictions1 = rf_model.predict(X_test_filt)\n",
    "best_params = rf_model.tune_hyperparameters(X_train_filt, y_train, param_grid={'n_estimators': [100, 200], 'max_depth': [10, 20]})\n",
    "predictions2 = rf_model.predict(X_test_filt)\n",
    "rf_model.train(X_train_filt, y_train)\n",
    "predictions3 = rf_model.predict(X_test_filt)"
   ]
  },
  {
   "cell_type": "code",
   "execution_count": 12,
   "metadata": {},
   "outputs": [
    {
     "data": {
      "text/html": [
       "<div>\n",
       "<style scoped>\n",
       "    .dataframe tbody tr th:only-of-type {\n",
       "        vertical-align: middle;\n",
       "    }\n",
       "\n",
       "    .dataframe tbody tr th {\n",
       "        vertical-align: top;\n",
       "    }\n",
       "\n",
       "    .dataframe thead th {\n",
       "        text-align: right;\n",
       "    }\n",
       "</style>\n",
       "<table border=\"1\" class=\"dataframe\">\n",
       "  <thead>\n",
       "    <tr style=\"text-align: right;\">\n",
       "      <th></th>\n",
       "      <th>Model</th>\n",
       "      <th>Accuracy</th>\n",
       "      <th>Precision</th>\n",
       "      <th>Recall</th>\n",
       "      <th>F1 Score</th>\n",
       "      <th>Confusion Matrix</th>\n",
       "      <th>ROC AUC</th>\n",
       "    </tr>\n",
       "  </thead>\n",
       "  <tbody>\n",
       "    <tr>\n",
       "      <th>0</th>\n",
       "      <td>Logistic Regression</td>\n",
       "      <td>0.821229</td>\n",
       "      <td>0.776316</td>\n",
       "      <td>0.797297</td>\n",
       "      <td>0.786667</td>\n",
       "      <td>88\\t17\\n15\\t59</td>\n",
       "      <td>None</td>\n",
       "    </tr>\n",
       "  </tbody>\n",
       "</table>\n",
       "</div>"
      ],
      "text/plain": [
       "                 Model  Accuracy  Precision    Recall  F1 Score  \\\n",
       "0  Logistic Regression  0.821229   0.776316  0.797297  0.786667   \n",
       "\n",
       "  Confusion Matrix ROC AUC  \n",
       "0   88\\t17\\n15\\t59    None  "
      ]
     },
     "execution_count": 12,
     "metadata": {},
     "output_type": "execute_result"
    }
   ],
   "source": [
    "evaluator = ClassificationEvaluator(y_true=y_test)\n",
    "evaluator.add_model('Logistic Regression', log_reg_predict)\n",
    "evaluator.evaluate_all_models()"
   ]
  }
 ],
 "metadata": {
  "kernelspec": {
   "display_name": "general2",
   "language": "python",
   "name": "python3"
  },
  "language_info": {
   "codemirror_mode": {
    "name": "ipython",
    "version": 3
   },
   "file_extension": ".py",
   "mimetype": "text/x-python",
   "name": "python",
   "nbconvert_exporter": "python",
   "pygments_lexer": "ipython3",
   "version": "3.10.14"
  }
 },
 "nbformat": 4,
 "nbformat_minor": 2
}
